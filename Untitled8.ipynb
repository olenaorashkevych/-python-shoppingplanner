{
  "nbformat": 4,
  "nbformat_minor": 0,
  "metadata": {
    "colab": {
      "provenance": []
    },
    "kernelspec": {
      "name": "python3",
      "display_name": "Python 3"
    },
    "language_info": {
      "name": "python"
    }
  },
  "cells": [
    {
      "cell_type": "code",
      "execution_count": null,
      "metadata": {
        "colab": {
          "base_uri": "https://localhost:8080/"
        },
        "id": "of14C6tOU6Mk",
        "outputId": "1a27e85d-c5e3-4538-8fc1-7f483e31c469"
      },
      "outputs": [
        {
          "output_type": "stream",
          "name": "stdout",
          "text": [
            "How many recipes do you want to cook this week?please insert a number2\n",
            "Which recipe do you want to input for recipe 1?omlet\n",
            "sorry, please choose a recipe from the list pasra\n",
            "sorry, please choose a recipe from the list pasta\n",
            "this recipe_name is in the lyst\n",
            "Which recipe do you want to input for recipe 2?omlette\n",
            "sorry, please choose a recipe from the list omelette\n",
            "this recipe_name is in the lyst\n",
            "List of recipes for a week: ['pasta', 'omelette']\n",
            "{'pasta': 200, 'tomato sauce': 1, 'garlic': 2, 'olive oil': 10, 'eggs': '4', 'milk': 1, 'cheese': 100, 'pepper': 10, 'mushrooms': 200}\n"
          ]
        }
      ],
      "source": [
        "\n",
        "num_recipes = int(input(\"How many recipes do you want to cook this week?please insert a number\"))\n",
        "list_of_recipes_for_a_week=[]\n",
        "\n",
        "recipes = {\n",
        "    'pasta': {'pasta': 200, 'tomato sauce': 1, 'garlic': 2,'olive oil': 10},\n",
        "    'pizza': {'pizza dough': 300, 'tomato sauce': 1/2, 'cheese': 200, 'pepperoni': 10},\n",
        "    'salad': {'lettuce': 1, 'tomato': 2, 'cucumber': 1, 'onion': 1, 'dressing': 1},\n",
        "    'smoothie': {'banana': 2, 'strawberries': 500, 'milk': 1 , 'honey': 20 },\n",
        "    'omelette': {'eggs': '4', 'milk': 1, 'cheese': 100,  'pepper': 10, 'mushrooms': 200},}\n",
        "list_of_recipes_for_a_week=[]\n",
        "for i in range (0,num_recipes):\n",
        "  recipe_name = input(f\"Which recipe do you want to input for recipe {i+1}?\")\n",
        "  while recipe_name not in recipes:\n",
        "        recipe_name=input(\"sorry, please choose a recipe from the list \")\n",
        "  else:\n",
        "    list_of_recipes_for_a_week.append(recipe_name)\n",
        "    print(\"this recipe_name is in the lyst\")\n",
        "print(\"List of recipes for a week:\",list_of_recipes_for_a_week)\n",
        "shopping_list = {}\n",
        "for recipe in list_of_recipes_for_a_week:\n",
        "  for ingredient, amount in recipes[recipe].items():\n",
        "    if ingredient in shopping_list:\n",
        "        shopping_list[ingredient] += amount\n",
        "    else:\n",
        "        shopping_list[ingredient] = amount\n",
        "print(shopping_list)"
      ]
    },
    {
      "cell_type": "markdown",
      "source": [],
      "metadata": {
        "id": "XXJwC4RkVAo-"
      }
    },
    {
      "cell_type": "code",
      "source": [],
      "metadata": {
        "id": "Ksat2oeoVBad"
      },
      "execution_count": null,
      "outputs": []
    },
    {
      "cell_type": "code",
      "source": [],
      "metadata": {
        "id": "m-IHD-HdZuWi"
      },
      "execution_count": null,
      "outputs": []
    },
    {
      "cell_type": "markdown",
      "source": [],
      "metadata": {
        "id": "HDFpzxTuYLKk"
      }
    }
  ]
}